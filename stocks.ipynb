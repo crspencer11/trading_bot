{
 "cells": [
  {
   "cell_type": "markdown",
   "id": "e52b9eba-1486-44f3-9e74-95315733abaa",
   "metadata": {},
   "source": [
    "# Stock Trading Bot Ayyyyy\n",
    "- api reference: https://www.alphavantage.co/documentation/ and potentially https://site.financialmodelingprep.com/developer/docs"
   ]
  },
  {
   "cell_type": "code",
   "execution_count": 1,
   "id": "cee58534-645e-42c5-a696-df36e4a4f42c",
   "metadata": {},
   "outputs": [
    {
     "name": "stdout",
     "output_type": "stream",
     "text": [
      "Requirement already satisfied: graphviz in c:\\users\\cschow\\anaconda3\\lib\\site-packages (0.20.1)\n",
      "Collecting python-decouple\n",
      "  Downloading python_decouple-3.8-py3-none-any.whl (9.9 kB)\n",
      "Installing collected packages: python-decouple\n",
      "Successfully installed python-decouple-3.8\n"
     ]
    }
   ],
   "source": [
    "!pip install graphviz python-decouple"
   ]
  },
  {
   "cell_type": "code",
   "execution_count": 5,
   "id": "e8df7067-2f40-464c-866b-2b457fe774fd",
   "metadata": {},
   "outputs": [],
   "source": [
    "# This is just importing certain libraries we will use consistently throughouit the porject\n",
    "import pandas as pd\n",
    "import numpy as np\n",
    "import matplotlib.pyplot as plt\n",
    "import json\n",
    "import random\n",
    "import requests"
   ]
  },
  {
   "cell_type": "code",
   "execution_count": 3,
   "id": "0259d58c-fa0b-4344-bcc7-0538bf8f4c74",
   "metadata": {},
   "outputs": [],
   "source": [
    "import config\n",
    "\n",
    "api_key = config.api_key\n",
    "base_url = \"https://www.alphavantage.co/query?\""
   ]
  },
  {
   "cell_type": "code",
   "execution_count": 6,
   "id": "7b82c0dd-fcd1-47a0-a4d8-167e416aa937",
   "metadata": {},
   "outputs": [
    {
     "data": {
      "text/html": [
       "<div>\n",
       "<style scoped>\n",
       "    .dataframe tbody tr th:only-of-type {\n",
       "        vertical-align: middle;\n",
       "    }\n",
       "\n",
       "    .dataframe tbody tr th {\n",
       "        vertical-align: top;\n",
       "    }\n",
       "\n",
       "    .dataframe thead th {\n",
       "        text-align: right;\n",
       "    }\n",
       "</style>\n",
       "<table border=\"1\" class=\"dataframe\">\n",
       "  <thead>\n",
       "    <tr style=\"text-align: right;\">\n",
       "      <th></th>\n",
       "      <th>1. open</th>\n",
       "      <th>2. high</th>\n",
       "      <th>3. low</th>\n",
       "      <th>4. close</th>\n",
       "      <th>5. volume</th>\n",
       "    </tr>\n",
       "  </thead>\n",
       "  <tbody>\n",
       "    <tr>\n",
       "      <th>2023-09-29</th>\n",
       "      <td>10.7700</td>\n",
       "      <td>11.0700</td>\n",
       "      <td>10.7700</td>\n",
       "      <td>10.8600</td>\n",
       "      <td>19106925</td>\n",
       "    </tr>\n",
       "    <tr>\n",
       "      <th>2023-09-28</th>\n",
       "      <td>11.0800</td>\n",
       "      <td>11.1000</td>\n",
       "      <td>10.6600</td>\n",
       "      <td>10.6900</td>\n",
       "      <td>17806298</td>\n",
       "    </tr>\n",
       "    <tr>\n",
       "      <th>2023-09-27</th>\n",
       "      <td>10.7600</td>\n",
       "      <td>11.1150</td>\n",
       "      <td>10.7600</td>\n",
       "      <td>11.0300</td>\n",
       "      <td>20955284</td>\n",
       "    </tr>\n",
       "    <tr>\n",
       "      <th>2023-09-26</th>\n",
       "      <td>10.5700</td>\n",
       "      <td>10.8100</td>\n",
       "      <td>10.4250</td>\n",
       "      <td>10.6900</td>\n",
       "      <td>21457864</td>\n",
       "    </tr>\n",
       "    <tr>\n",
       "      <th>2023-09-25</th>\n",
       "      <td>11.1500</td>\n",
       "      <td>11.1800</td>\n",
       "      <td>10.6200</td>\n",
       "      <td>10.6600</td>\n",
       "      <td>22405085</td>\n",
       "    </tr>\n",
       "  </tbody>\n",
       "</table>\n",
       "</div>"
      ],
      "text/plain": [
       "            1. open  2. high   3. low 4. close 5. volume\n",
       "2023-09-29  10.7700  11.0700  10.7700  10.8600  19106925\n",
       "2023-09-28  11.0800  11.1000  10.6600  10.6900  17806298\n",
       "2023-09-27  10.7600  11.1150  10.7600  11.0300  20955284\n",
       "2023-09-26  10.5700  10.8100  10.4250  10.6900  21457864\n",
       "2023-09-25  11.1500  11.1800  10.6200  10.6600  22405085"
      ]
     },
     "execution_count": 6,
     "metadata": {},
     "output_type": "execute_result"
    }
   ],
   "source": [
    "ticker_function = \"TIME_SERIES_DAILY\"\n",
    "symbol = \"WBD\"\n",
    "ticker_url = f\"{base_url}function={ticker_function}&symbol={symbol}&apikey={api_key}\"\n",
    "ticker_response = requests.get(ticker_url)\n",
    "ticker_data = ticker_response.json()\n",
    "data = pd.DataFrame.from_dict(ticker_data[\"Time Series (Daily)\"], orient=\"index\")\n",
    "data.head()"
   ]
  },
  {
   "cell_type": "code",
   "execution_count": 153,
   "id": "87d8325c-6600-45b1-bdea-24906e46fb69",
   "metadata": {},
   "outputs": [],
   "source": [
    "# # Feature engineering (you can add more relevant features)\n",
    "data['4. close'] = data['4. close'].astype(float)\n",
    "data['1. open'] = data['1. open'].astype(float)"
   ]
  },
  {
   "cell_type": "code",
   "execution_count": 154,
   "id": "32785cf6-0c3b-46ff-a5ff-288b7aecbe56",
   "metadata": {},
   "outputs": [
    {
     "name": "stdout",
     "output_type": "stream",
     "text": [
      "1. open      float64\n",
      "2. high       object\n",
      "3. low        object\n",
      "4. close     float64\n",
      "5. volume     object\n",
      "dtype: object\n"
     ]
    }
   ],
   "source": [
    "print(data.dtypes)"
   ]
  },
  {
   "cell_type": "code",
   "execution_count": 158,
   "id": "bb98cad6-5c41-4a91-93ed-26d0d8aecf3a",
   "metadata": {},
   "outputs": [],
   "source": [
    "data['Close_Prev_Day'] = data['4. close'].shift(1)\n",
    "\n",
    "# Then, create 'Open_Next_Day' by shifting 'Open' one day forward\n",
    "data['Open_Next_Day'] = data['1. open'].shift(-1)\n",
    "\n",
    "# Calculate the difference between 'Close_Prev_Day' and 'Open_Next_Day'\n",
    "data['Price_Diff'] = data['Open_Next_Day'] - data['Close_Prev_Day']\n",
    "\n",
    "# Drop the NaN values in the new column, which will be present in the first and last rows\n",
    "data.dropna(subset=['Price_Diff'], inplace=True)\n",
    "data = data.head(50)"
   ]
  },
  {
   "cell_type": "code",
   "execution_count": 159,
   "id": "0927edb7-5425-4c56-a79b-45742353803e",
   "metadata": {},
   "outputs": [
    {
     "data": {
      "text/html": [
       "<div>\n",
       "<style scoped>\n",
       "    .dataframe tbody tr th:only-of-type {\n",
       "        vertical-align: middle;\n",
       "    }\n",
       "\n",
       "    .dataframe tbody tr th {\n",
       "        vertical-align: top;\n",
       "    }\n",
       "\n",
       "    .dataframe thead th {\n",
       "        text-align: right;\n",
       "    }\n",
       "</style>\n",
       "<table border=\"1\" class=\"dataframe\">\n",
       "  <thead>\n",
       "    <tr style=\"text-align: right;\">\n",
       "      <th></th>\n",
       "      <th>1. open</th>\n",
       "      <th>2. high</th>\n",
       "      <th>3. low</th>\n",
       "      <th>4. close</th>\n",
       "      <th>5. volume</th>\n",
       "      <th>Close_Prev_Day</th>\n",
       "      <th>Open_Next_Day</th>\n",
       "      <th>Price_Diff</th>\n",
       "    </tr>\n",
       "  </thead>\n",
       "  <tbody>\n",
       "    <tr>\n",
       "      <th>2023-09-01</th>\n",
       "      <td>12.78</td>\n",
       "      <td>12.8400</td>\n",
       "      <td>11.3400</td>\n",
       "      <td>11.56</td>\n",
       "      <td>62845901</td>\n",
       "      <td>11.64</td>\n",
       "      <td>13.1</td>\n",
       "      <td>1.46</td>\n",
       "    </tr>\n",
       "  </tbody>\n",
       "</table>\n",
       "</div>"
      ],
      "text/plain": [
       "            1. open  2. high   3. low  4. close 5. volume  Close_Prev_Day  \\\n",
       "2023-09-01    12.78  12.8400  11.3400     11.56  62845901           11.64   \n",
       "\n",
       "            Open_Next_Day  Price_Diff  \n",
       "2023-09-01           13.1        1.46  "
      ]
     },
     "execution_count": 159,
     "metadata": {},
     "output_type": "execute_result"
    }
   ],
   "source": [
    "maximum = max(data['Price_Diff'])\n",
    "data[data['Price_Diff'] == maximum]"
   ]
  },
  {
   "cell_type": "code",
   "execution_count": null,
   "id": "6b3226f6-4b79-4d86-8214-ddef1ee68d28",
   "metadata": {},
   "outputs": [],
   "source": [
    "from sklearn.ensemble import RandomForestClassifier\n",
    "from sklearn.model_selection import train_test_split\n",
    "from sklearn.metrics import accuracy_score\n",
    "\n",
    "# Labeling data (creating a simple binary label: 1 for buy, 0 for not buy)\n",
    "maximum = max(data[0], data[-1])\n",
    "\n",
    "# Prepare features and labels\n",
    "X = data[['SMA_50', 'SMA_200', 'RSI']]\n",
    "y = data['Buy']\n",
    "\n",
    "# Split data into training and testing sets\n",
    "X_train, X_test, y_train, y_test = train_test_split(X, y, test_size=0.2, random_state=42)\n",
    "\n",
    "# Create and train the Random Forest model\n",
    "rf_model = RandomForestClassifier(n_estimators=100, random_state=42)\n",
    "rf_model.fit(X_train, y_train)\n",
    "\n",
    "# Make predictions\n",
    "y_pred = rf_model.predict(X_test)\n",
    "\n",
    "# Evaluate model performance\n",
    "accuracy = accuracy_score(y_test, y_pred)\n",
    "print(f\"Accuracy: {accuracy * 100:.2f}%\")"
   ]
  },
  {
   "cell_type": "code",
   "execution_count": 43,
   "id": "af4b203b-0698-424d-aeeb-413fa236b3bb",
   "metadata": {},
   "outputs": [],
   "source": [
    "# for ticker in tickers:\n",
    "#     historical_endpoint = \"historical-price-full\"\n",
    "#     historical_url = f\"{base_url}{historical_endpoint}/{ticker}?apikey={api_key}\"\n",
    "#     historical_response = requests.get(historical_url)\n",
    "#     historical_data = historical_response.json()"
   ]
  },
  {
   "cell_type": "code",
   "execution_count": 18,
   "id": "88a4e2d5-7f9c-4232-b1ed-53ab69647021",
   "metadata": {},
   "outputs": [],
   "source": [
    "# import concurrent.futures\n",
    "\n",
    "# def fetch_historical_data(ticker):\n",
    "#     \"\"\"Fetches the data from the API and returns it as a JSON response.\"\"\"\n",
    "#     historical_url = f\"{base_url}{historical_endpoint}/{ticker}?apikey={api_key}\"\n",
    "#     response = requests.get(historical_url)\n",
    "#     data = response.json()\n",
    "#     return data\n",
    "\n",
    "# # This is modified based on the hardware of the computer. 4-8 threads for a cpu is common so I defaulted to 8.\n",
    "# max_workers = 8\n",
    "\n",
    "# # Create a ThreadPoolExecutor with max_workers threads\n",
    "# with concurrent.futures.ThreadPoolExecutor(max_workers=max_workers) as executor:\n",
    "#     # Submit the fetch_historical_data function for each ticker\n",
    "#     futures = [executor.submit(fetch_historical_data, ticker) for ticker in tickers]\n",
    "\n",
    "#     # Process the results as they complete\n",
    "#     for future in concurrent.futures.as_completed(futures):\n",
    "#         try:\n",
    "#             data = future.result()\n",
    "#             # Process the fetched historical data as needed\n",
    "#             print(data)\n",
    "#         except Exception as e:\n",
    "#             print(f\"An error occurred: {e}\")\n"
   ]
  },
  {
   "cell_type": "code",
   "execution_count": null,
   "id": "771b5d05-bf52-427a-ad1f-406cbddd5340",
   "metadata": {},
   "outputs": [],
   "source": []
  }
 ],
 "metadata": {
  "kernelspec": {
   "display_name": "Python 3 (ipykernel)",
   "language": "python",
   "name": "python3"
  },
  "language_info": {
   "codemirror_mode": {
    "name": "ipython",
    "version": 3
   },
   "file_extension": ".py",
   "mimetype": "text/x-python",
   "name": "python",
   "nbconvert_exporter": "python",
   "pygments_lexer": "ipython3",
   "version": "3.9.12"
  }
 },
 "nbformat": 4,
 "nbformat_minor": 5
}
