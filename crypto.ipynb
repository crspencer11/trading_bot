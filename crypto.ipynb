{
 "cells": [
  {
   "cell_type": "code",
   "execution_count": 1,
   "id": "5ce63137-a470-4042-9308-e5b690194fc5",
   "metadata": {},
   "outputs": [],
   "source": [
    "# This is just importing certain libraries we will use consistently throughouit the porject\n",
    "import pandas as pd\n",
    "import numpy as np\n",
    "import matplotlib.pyplot as plt\n",
    "import json\n",
    "import random\n",
    "import requests"
   ]
  },
  {
   "cell_type": "code",
   "execution_count": null,
   "id": "b6220438-c445-4318-ab29-0f7daf6ebc3a",
   "metadata": {},
   "outputs": [],
   "source": [
    "df = pd.read_csv(\"\")\n",
    "df.head()"
   ]
  },
  {
   "cell_type": "code",
   "execution_count": null,
   "id": "d0a94b40-80cd-4066-86be-32af58ee9bde",
   "metadata": {},
   "outputs": [],
   "source": [
    "def coins():\n",
    "    currencies = []\n",
    "    for"
   ]
  },
  {
   "cell_type": "code",
   "execution_count": null,
   "id": "5fe9650a-c5e8-47a6-8baa-16a5a019db61",
   "metadata": {},
   "outputs": [],
   "source": []
  },
  {
   "cell_type": "code",
   "execution_count": null,
   "id": "a8e515d7-151f-4073-927a-ce9d4437cc57",
   "metadata": {},
   "outputs": [],
   "source": []
  },
  {
   "cell_type": "code",
   "execution_count": null,
   "id": "1ef95a00-4000-4a2a-9112-a6f62b600851",
   "metadata": {},
   "outputs": [],
   "source": []
  },
  {
   "cell_type": "code",
   "execution_count": null,
   "id": "31a11ace-b3ef-4da8-b264-037a4fe6c6aa",
   "metadata": {},
   "outputs": [],
   "source": []
  },
  {
   "cell_type": "code",
   "execution_count": null,
   "id": "760bd7eb-1715-4dec-90ed-acfb5414f8bd",
   "metadata": {},
   "outputs": [],
   "source": []
  },
  {
   "cell_type": "code",
   "execution_count": null,
   "id": "b426dfd6-1d8b-42fa-bd73-cc45d273fef3",
   "metadata": {},
   "outputs": [],
   "source": []
  },
  {
   "cell_type": "code",
   "execution_count": null,
   "id": "e3842c67-701a-49a1-bb86-d7ffd85be61d",
   "metadata": {},
   "outputs": [],
   "source": []
  }
 ],
 "metadata": {
  "kernelspec": {
   "display_name": "Python 3 (ipykernel)",
   "language": "python",
   "name": "python3"
  },
  "language_info": {
   "codemirror_mode": {
    "name": "ipython",
    "version": 3
   },
   "file_extension": ".py",
   "mimetype": "text/x-python",
   "name": "python",
   "nbconvert_exporter": "python",
   "pygments_lexer": "ipython3",
   "version": "3.9.12"
  }
 },
 "nbformat": 4,
 "nbformat_minor": 5
}
