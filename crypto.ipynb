{
 "cells": [
  {
   "cell_type": "code",
   "execution_count": 2,
   "id": "5ce63137-a470-4042-9308-e5b690194fc5",
   "metadata": {},
   "outputs": [],
   "source": [
    "# This is just importing certain libraries we will use consistently throughouit the porject\n",
    "import pandas as pd\n",
    "import numpy as np\n",
    "import matplotlib.pyplot as plt\n",
    "import json\n",
    "import random\n",
    "import requests"
   ]
  },
  {
   "cell_type": "code",
   "execution_count": 3,
   "id": "5d9c0157-d57a-48ec-9c0e-661c10083ccc",
   "metadata": {},
   "outputs": [
    {
     "data": {
      "text/html": [
       "<div>\n",
       "<style scoped>\n",
       "    .dataframe tbody tr th:only-of-type {\n",
       "        vertical-align: middle;\n",
       "    }\n",
       "\n",
       "    .dataframe tbody tr th {\n",
       "        vertical-align: top;\n",
       "    }\n",
       "\n",
       "    .dataframe thead th {\n",
       "        text-align: right;\n",
       "    }\n",
       "</style>\n",
       "<table border=\"1\" class=\"dataframe\">\n",
       "  <thead>\n",
       "    <tr style=\"text-align: right;\">\n",
       "      <th></th>\n",
       "      <th>1592341200</th>\n",
       "      <th>0.69012</th>\n",
       "      <th>0.69012.1</th>\n",
       "      <th>0.69012.2</th>\n",
       "      <th>0.69012.3</th>\n",
       "      <th>24.1106133</th>\n",
       "      <th>1</th>\n",
       "    </tr>\n",
       "  </thead>\n",
       "  <tbody>\n",
       "    <tr>\n",
       "      <th>0</th>\n",
       "      <td>1592344800</td>\n",
       "      <td>0.69054</td>\n",
       "      <td>0.69054</td>\n",
       "      <td>0.69054</td>\n",
       "      <td>0.69054</td>\n",
       "      <td>1550.000000</td>\n",
       "      <td>2</td>\n",
       "    </tr>\n",
       "    <tr>\n",
       "      <th>1</th>\n",
       "      <td>1592348400</td>\n",
       "      <td>0.68870</td>\n",
       "      <td>0.68870</td>\n",
       "      <td>0.68663</td>\n",
       "      <td>0.68663</td>\n",
       "      <td>72.322400</td>\n",
       "      <td>2</td>\n",
       "    </tr>\n",
       "    <tr>\n",
       "      <th>2</th>\n",
       "      <td>1592355600</td>\n",
       "      <td>0.68434</td>\n",
       "      <td>0.68468</td>\n",
       "      <td>0.68434</td>\n",
       "      <td>0.68468</td>\n",
       "      <td>49.949900</td>\n",
       "      <td>2</td>\n",
       "    </tr>\n",
       "    <tr>\n",
       "      <th>3</th>\n",
       "      <td>1592366400</td>\n",
       "      <td>0.68525</td>\n",
       "      <td>0.68525</td>\n",
       "      <td>0.68490</td>\n",
       "      <td>0.68490</td>\n",
       "      <td>1678.753500</td>\n",
       "      <td>5</td>\n",
       "    </tr>\n",
       "    <tr>\n",
       "      <th>4</th>\n",
       "      <td>1592373600</td>\n",
       "      <td>0.68700</td>\n",
       "      <td>0.68700</td>\n",
       "      <td>0.68700</td>\n",
       "      <td>0.68700</td>\n",
       "      <td>21.977998</td>\n",
       "      <td>1</td>\n",
       "    </tr>\n",
       "  </tbody>\n",
       "</table>\n",
       "</div>"
      ],
      "text/plain": [
       "   1592341200  0.69012  0.69012.1  0.69012.2  0.69012.3   24.1106133  1\n",
       "0  1592344800  0.69054    0.69054    0.69054    0.69054  1550.000000  2\n",
       "1  1592348400  0.68870    0.68870    0.68663    0.68663    72.322400  2\n",
       "2  1592355600  0.68434    0.68468    0.68434    0.68468    49.949900  2\n",
       "3  1592366400  0.68525    0.68525    0.68490    0.68490  1678.753500  5\n",
       "4  1592373600  0.68700    0.68700    0.68700    0.68700    21.977998  1"
      ]
     },
     "execution_count": 3,
     "metadata": {},
     "output_type": "execute_result"
    }
   ],
   "source": [
    "df = pd.read_csv(\"AUDUSD_60.csv\")\n",
    "df.head()"
   ]
  },
  {
   "cell_type": "code",
   "execution_count": null,
   "id": "47a61d26-21b3-4422-a424-204bc199f3e9",
   "metadata": {},
   "outputs": [],
   "source": [
    "def coins():\n",
    "    currencies = []\n",
    "    for"
   ]
  },
  {
   "cell_type": "code",
   "execution_count": null,
   "id": "93e34609-eeec-42fe-b1db-d2f1a4ffe8fd",
   "metadata": {},
   "outputs": [],
   "source": [
    "import urllib.parse\n",
    "import time\n",
    "import hashlib\n",
    "import hmac\n",
    "import base64\n",
    "\n",
    "def get_kraken_signature(urlpath, data, secret):\n",
    "\n",
    "    postdata = urllib.parse.urlencode(data)\n",
    "    encoded = (str(data['nonce']) + postdata).encode()\n",
    "    message = urlpath.encode() + hashlib.sha256(encoded).digest()\n",
    "\n",
    "    mac = hmac.new(base64.b64decode(secret), message, hashlib.sha512)\n",
    "    sigdigest = base64.b64encode(mac.digest())\n",
    "    return sigdigest.decode()\n",
    "\n",
    "api_sec = \"kQH5HW/8p1uGOVjbgWA7FunAmGO8lsSUXNsu3eow76sz84Q18fWxnyRzBHCd3pd5nE9qa99HAZtuZuj6F1huXg==\"\n",
    "\n",
    "data = {\n",
    "    \"nonce\": str(int(1000*time.time()))\n",
    "}\n",
    "\n",
    "signature = get_kraken_signature(\"/0/public/Assets\", data, api_sec)\n",
    "print(\"API-Sign: {}\".format(signature))"
   ]
  }
 ],
 "metadata": {
  "kernelspec": {
   "display_name": "Python 3 (ipykernel)",
   "language": "python",
   "name": "python3"
  },
  "language_info": {
   "codemirror_mode": {
    "name": "ipython",
    "version": 3
   },
   "file_extension": ".py",
   "mimetype": "text/x-python",
   "name": "python",
   "nbconvert_exporter": "python",
   "pygments_lexer": "ipython3",
   "version": "3.9.13"
  }
 },
 "nbformat": 4,
 "nbformat_minor": 5
}
